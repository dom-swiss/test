# data methodology consists of the following 10 stages:
* Business understanding
* analytic approach
* data requirements
* data collection
* data understanding
* data preparation
* modeling
* evaluation
* deployment
* feedback
